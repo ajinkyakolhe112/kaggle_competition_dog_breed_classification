{
 "cells": [
  {
   "cell_type": "code",
   "execution_count": 1,
   "metadata": {},
   "outputs": [],
   "source": [
    "import tensorflow as tf\n",
    "import tensorflow_datasets as tfds\n",
    "\n",
    "# Load in the data (takes about 5-6 minutes in Google Colab)\n",
    "train_data, test_data = tfds.load(name=\"stanford_dogs\", split=[\"train\", \"test\"], shuffle_files=True, as_supervised=True)"
   ]
  },
  {
   "cell_type": "code",
   "execution_count": 2,
   "metadata": {},
   "outputs": [],
   "source": [
    "# Make a function for preprocessing images\n",
    "def preprocess_img(image, label, img_shape=(224,224)):\n",
    "    image      = tf.image.resize(image, img_shape)\n",
    "    img_tensor = tf.cast(image, tf.float32)\n",
    "\n",
    "    return img_tensor, label"
   ]
  },
  {
   "cell_type": "code",
   "execution_count": 3,
   "metadata": {},
   "outputs": [],
   "source": [
    "train_data = train_data.map(map_func=preprocess_img)\n",
    "test_data  = test_data.map(map_func=preprocess_img)\n",
    "\n",
    "train_data = train_data.batch(batch_size=32).shuffle(buffer_size=1000)\n",
    "test_data  = test_data.batch(batch_size=32)"
   ]
  },
  {
   "cell_type": "code",
   "execution_count": 4,
   "metadata": {},
   "outputs": [
    {
     "name": "stderr",
     "output_type": "stream",
     "text": [
      "WARNING:absl:At this time, the v2.11+ optimizer `tf.keras.optimizers.Adam` runs slowly on M1/M2 Macs, please use the legacy Keras optimizer instead, located at `tf.keras.optimizers.legacy.Adam`.\n"
     ]
    }
   ],
   "source": [
    "class Custom_Model_Architecture(tf.keras.Model):\n",
    "    def __init__(self):\n",
    "        super().__init__()\n",
    "        \n",
    "        INPUT_SHAPE  = (224, 224, 3)\n",
    "        NUM_CLASSES  = 120\n",
    "        PRETRAINED_MODEL           = tf.keras.applications.EfficientNetB0(include_top=False)\n",
    "        PRETRAINED_MODEL.trainable = False # freeze base model layers\n",
    "        \n",
    "        input_layer  = tf.keras.layers.Input(shape=INPUT_SHAPE, name=\"input_layer\")\n",
    "        embedding    = tf.keras.layers.GlobalAveragePooling2D()\n",
    "        fc1          = tf.keras.layers.Dense(NUM_CLASSES)\n",
    "        activation   = tf.keras.layers.Activation(\"softmax\", dtype=tf.float32)\n",
    "\n",
    "        self.complete_model = tf.keras.models.Sequential([\n",
    "            input_layer,\n",
    "            PRETRAINED_MODEL,\n",
    "            embedding,\n",
    "            fc1,\n",
    "            activation\n",
    "        ])\n",
    "\n",
    "    def call(self, input_batch):\n",
    "        final_output_probs = self.complete_model(input_batch)\n",
    "\n",
    "        return final_output_probs\n",
    "\n",
    "model = Custom_Model_Architecture()\n",
    "model.compile(loss=\"sparse_categorical_crossentropy\", # Use sparse_categorical_crossentropy when labels are *not* one-hot\n",
    "              optimizer=tf.keras.optimizers.Adam(),\n",
    "              metrics=[\"accuracy\"])"
   ]
  },
  {
   "cell_type": "code",
   "execution_count": 5,
   "metadata": {},
   "outputs": [
    {
     "name": "stdout",
     "output_type": "stream",
     "text": [
      "Epoch 1/3\n",
      "248/375 [==================>...........] - ETA: 42s - loss: 1.8125 - accuracy: 0.6423"
     ]
    }
   ],
   "source": [
    "# Fit the model with callbacks\n",
    "history = model.fit(train_data, epochs=3, validation_data=test_data, callbacks=[])\n",
    "\n",
    "model.save(\"07_efficientnetb0_feature_extract_model_mixed_precision\")\n",
    "# loaded_saved_model = tf.keras.models.load_model(save_dir)"
   ]
  },
  {
   "cell_type": "code",
   "execution_count": null,
   "metadata": {},
   "outputs": [],
   "source": []
  }
 ],
 "metadata": {
  "kernelspec": {
   "display_name": "base",
   "language": "python",
   "name": "python3"
  },
  "language_info": {
   "codemirror_mode": {
    "name": "ipython",
    "version": 3
   },
   "file_extension": ".py",
   "mimetype": "text/x-python",
   "name": "python",
   "nbconvert_exporter": "python",
   "pygments_lexer": "ipython3",
   "version": "3.11.5"
  }
 },
 "nbformat": 4,
 "nbformat_minor": 2
}
