{
 "cells": [
  {
   "cell_type": "code",
   "execution_count": 1,
   "metadata": {
    "slideshow": {
     "slide_type": "skip"
    }
   },
   "outputs": [
    {
     "name": "stdout",
     "output_type": "stream",
     "text": [
      "Found 10222 files belonging to 120 classes.\n",
      "Using 9200 files for training.\n",
      "Using 1022 files for validation.\n"
     ]
    }
   ],
   "source": [
    "import tensorflow as tf\n",
    "from tensorflow import keras\n",
    "\n",
    "train_dataset_path = \"../dataset/dog-breed-imagefolder/train\"\n",
    "training_dataset, validation_dataset = tf.keras.utils.image_dataset_from_directory(train_dataset_path, \n",
    "                                            image_size = (224, 224),  # Default value is (256, 256). **source of potential error**\n",
    "                                            validation_split = 0.1, subset = \"both\", seed = 10, # Need to set subset & seed both for validation_split\n",
    "                                            batch_size = 32, shuffle= True, # Default values used automatically. **SOURCE OF POTENTIAL ERROR**\n",
    "                                            labels = \"inferred\", # need to set none for test\n",
    "                                            color_mode = \"rgb\", # Channels = 3. Hidden from us\n",
    "                                            label_mode = \"categorical\" ) # MUST. OTHERWISE causes error at LOSS value calculation. Need to do one hot encoding there\n"
   ]
  },
  {
   "cell_type": "markdown",
   "metadata": {},
   "source": [
    "## Neural Network - Training from Scratch"
   ]
  },
  {
   "cell_type": "code",
   "execution_count": null,
   "metadata": {},
   "outputs": [],
   "source": [
    "\"\"\"\n",
    "    NN: Architecture\n",
    "    Input Layer  = Shape (224, 224, 3)\n",
    "    Hidden Layer = 240 Neurons\n",
    "    Output Layer = 120 Neurons\n",
    "\"\"\"\n",
    "class simple_fcnn(keras.Model):\n",
    "    def __init__(self):\n",
    "        super().__init__()\n",
    "        \n",
    "        INPUT_SHAPE  = (224, 224, 3)\n",
    "        NUM_CLASSES  = 120\n",
    "\n",
    "        self.internal_model = tf.keras.models.Sequential([\n",
    "            keras.layers.Input(shape = INPUT_SHAPE),\n",
    "            keras.layers.Flatten(),\n",
    "\n",
    "            keras.layers.Dense(units = 240,             activation=\"relu\",      kernel_initializer='random_normal', bias_initializer='zeros'),\n",
    "            keras.layers.Dense(units = NUM_CLASSES,     activation=\"softmax\",   kernel_initializer='random_normal', bias_initializer='zeros'),\n",
    "        ])\n",
    "\n",
    "    def call(self, input_single_batch):\n",
    "        final_layer_output = self.internal_model(input_single_batch)\n",
    "\n",
    "        return final_layer_output\n",
    "\n",
    "model_simple_fcnn  = simple_fcnn()\n",
    "model_simple_fcnn.compile(\n",
    "    loss      = keras.losses.CategoricalCrossentropy(),     # \"categorical_cross_entropy\"\n",
    "    optimizer = keras.optimizers.Adam(),                    # \"adam\"\n",
    "    metrics   = [\"accuracy\"],                               # keras.metrics.Accuracy()\n",
    ")"
   ]
  },
  {
   "cell_type": "code",
   "execution_count": 3,
   "metadata": {},
   "outputs": [
    {
     "name": "stdout",
     "output_type": "stream",
     "text": [
      " 77/288 [=======>......................] - ETA: 29s - loss: 6132.6870 - accuracy: 0.0057"
     ]
    }
   ],
   "source": [
    "model_simple_fcnn.fit(x = training_dataset, validation_data = validation_dataset, epochs = 5)"
   ]
  },
  {
   "cell_type": "markdown",
   "metadata": {},
   "source": [
    "### Bugs while writing end to end pipeline\n",
    "**IMP: 4 Bugs in the code**\n",
    "1. `dir = dog-breed-imagefolder`. It lead to 2 classes 1st class -> train & 2nd class -> test, instead of 120 classes as dog breeds\n",
    "2. default value of `label_mode=int`. it doesn't convert class to vector. categorical loss function needs vector of class not int. `tf.keras.losses.categorical_cross_entropy` vs `tf.keras.losses.sparse_categorical_cross_entropy`. I needed to write custom training loop to debug this problem.\n",
    "3. `batch_size = 32, shuffle= True`. These default values can lead to confusion while debugging with single element batch.\n",
    "4. `validation_split` needs subset & seed. Tensorflow requirements\n"
   ]
  },
  {
   "cell_type": "markdown",
   "metadata": {},
   "source": [
    "## Transfer Learning"
   ]
  },
  {
   "cell_type": "code",
   "execution_count": 3,
   "metadata": {},
   "outputs": [
    {
     "name": "stderr",
     "output_type": "stream",
     "text": [
      "WARNING:absl:At this time, the v2.11+ optimizer `tf.keras.optimizers.Adam` runs slowly on M1/M2 Macs, please use the legacy Keras optimizer instead, located at `tf.keras.optimizers.legacy.Adam`.\n"
     ]
    },
    {
     "name": "stdout",
     "output_type": "stream",
     "text": [
      "288/288 [==============================] - 101s 340ms/step - loss: 2.5975 - accuracy: 0.5166 - val_loss: 1.1863 - val_accuracy: 0.7104\n"
     ]
    },
    {
     "data": {
      "text/plain": [
       "<keras.src.callbacks.History at 0x284d3a210>"
      ]
     },
     "execution_count": 3,
     "metadata": {},
     "output_type": "execute_result"
    }
   ],
   "source": [
    "NUM_CLASSES = 120\n",
    "\"\"\"\n",
    "    NN: Architecture\n",
    "    PRETRAINED MODEL\n",
    "    Input Layer  = Shape (224, 224, 3)\n",
    "    Hidden Layer = 240 Neurons\n",
    "    Output Layer = 120 Neurons\n",
    "\"\"\"\n",
    "class transfer_learning_fcnn(keras.Model):\n",
    "    def __init__(self):\n",
    "        super().__init__()\n",
    "        PRETRAINED_MODEL           = tf.keras.applications.efficientnet_v2.EfficientNetV2B0(include_top=False)\n",
    "        PRETRAINED_MODEL.trainable = False\n",
    "\n",
    "        self.internal_model = tf.keras.models.Sequential([\n",
    "            keras.layers.Input(shape = (224, 224, 3)),\n",
    "            PRETRAINED_MODEL,\n",
    "            keras.layers.Flatten(),\n",
    "\n",
    "            keras.layers.Dense(units = 240,             activation=\"relu\",      kernel_initializer='random_normal', bias_initializer='zeros'),\n",
    "            keras.layers.Dense(units = NUM_CLASSES,     activation=\"softmax\",   kernel_initializer='random_normal', bias_initializer='zeros'),\n",
    "        ])\n",
    "\n",
    "    def call(self, input_single_batch):\n",
    "        final_layer_output = self.internal_model(input_single_batch)\n",
    "\n",
    "        return final_layer_output\n",
    "\n",
    "model_transfer_learning  = transfer_learning_fcnn()\n",
    "model_transfer_learning.compile(\n",
    "    loss      = keras.losses.CategoricalCrossentropy(),     # \"categorical_cross_entropy\"\n",
    "    optimizer = keras.optimizers.Adam(),                    # \"adam\"\n",
    "    metrics   = [\"accuracy\"],                               # keras.metrics.Accuracy()\n",
    ")\n",
    "\n",
    "model_transfer_learning.fit(x = training_dataset, validation_data = validation_dataset, epochs = 1)"
   ]
  },
  {
   "cell_type": "markdown",
   "metadata": {},
   "source": [
    "## Kaggle Submission"
   ]
  },
  {
   "cell_type": "code",
   "execution_count": 23,
   "metadata": {},
   "outputs": [],
   "source": [
    "import os\n",
    "import pandas as pd\n",
    "import numpy as np\n",
    "np.set_printoptions(precision=17)\n",
    "\n",
    "submission_file = open(\"submission_file.csv\", \"w\")\n",
    "header = \"id,affenpinscher,afghan_hound,african_hunting_dog,airedale,american_staffordshire_terrier,appenzeller,australian_terrier,basenji,basset,beagle,bedlington_terrier,bernese_mountain_dog,black-and-tan_coonhound,blenheim_spaniel,bloodhound,bluetick,border_collie,border_terrier,borzoi,boston_bull,bouvier_des_flandres,boxer,brabancon_griffon,briard,brittany_spaniel,bull_mastiff,cairn,cardigan,chesapeake_bay_retriever,chihuahua,chow,clumber,cocker_spaniel,collie,curly-coated_retriever,dandie_dinmont,dhole,dingo,doberman,english_foxhound,english_setter,english_springer,entlebucher,eskimo_dog,flat-coated_retriever,french_bulldog,german_shepherd,german_short-haired_pointer,giant_schnauzer,golden_retriever,gordon_setter,great_dane,great_pyrenees,greater_swiss_mountain_dog,groenendael,ibizan_hound,irish_setter,irish_terrier,irish_water_spaniel,irish_wolfhound,italian_greyhound,japanese_spaniel,keeshond,kelpie,kerry_blue_terrier,komondor,kuvasz,labrador_retriever,lakeland_terrier,leonberg,lhasa,malamute,malinois,maltese_dog,mexican_hairless,miniature_pinscher,miniature_poodle,miniature_schnauzer,newfoundland,norfolk_terrier,norwegian_elkhound,norwich_terrier,old_english_sheepdog,otterhound,papillon,pekinese,pembroke,pomeranian,pug,redbone,rhodesian_ridgeback,rottweiler,saint_bernard,saluki,samoyed,schipperke,scotch_terrier,scottish_deerhound,sealyham_terrier,shetland_sheepdog,shih-tzu,siberian_husky,silky_terrier,soft-coated_wheaten_terrier,staffordshire_bullterrier,standard_poodle,standard_schnauzer,sussex_spaniel,tibetan_mastiff,tibetan_terrier,toy_poodle,toy_terrier,vizsla,walker_hound,weimaraner,welsh_springer_spaniel,west_highland_white_terrier,whippet,wire-haired_fox_terrier,yorkshire_terrier\"\n",
    "submission_file.write(header)\n",
    "\n",
    "\n",
    "test_dataset_path = \"../dataset/dog-breed-imagefolder/test/\"\n",
    "for filename in os.listdir(test_dataset_path):\n",
    "    image  = tf.keras.utils.load_img(test_dataset_path + filename, color_mode='rgb', target_size=(224, 224) )\n",
    "    tensor = tf.keras.utils.img_to_array(image)\n",
    "    single_batch = tf.expand_dims(tensor, axis=0)\n",
    "\n",
    "    output_probs = model_transfer_learning(single_batch)\n",
    "    submission_string = \"\\n\" + filename[:-4]\n",
    "    counter = 0\n",
    "    for index in range(120):\n",
    "        class_prob = output_probs[0][index].numpy()\n",
    "        submission_string = submission_string + \",{:.17f}\".format(class_prob)\n",
    "    submission_file.write(submission_string)\n",
    "    "
   ]
  }
 ],
 "metadata": {
  "kernelspec": {
   "display_name": "Python 3",
   "language": "python",
   "name": "python3"
  },
  "language_info": {
   "codemirror_mode": {
    "name": "ipython",
    "version": 3
   },
   "file_extension": ".py",
   "mimetype": "text/x-python",
   "name": "python",
   "nbconvert_exporter": "python",
   "pygments_lexer": "ipython3",
   "version": "3.11.5"
  }
 },
 "nbformat": 4,
 "nbformat_minor": 2
}
