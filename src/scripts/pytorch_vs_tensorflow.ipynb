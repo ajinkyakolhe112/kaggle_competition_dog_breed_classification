{
 "cells": [
  {
   "cell_type": "markdown",
   "metadata": {},
   "source": [
    "## Dataset"
   ]
  },
  {
   "cell_type": "code",
   "execution_count": 6,
   "metadata": {},
   "outputs": [
    {
     "name": "stdout",
     "output_type": "stream",
     "text": [
      "Found 20579 files belonging to 2 classes.\n",
      "Using 18522 files for training.\n",
      "Using 2057 files for validation.\n"
     ]
    }
   ],
   "source": [
    "import tensorflow as tf\n",
    "from tensorflow import keras\n",
    "import torch, torchvision\n",
    "\n",
    "train_dir = \"/Users/ajinkya/Documents/Visual Studio Code/0_PROJECTS/kaggle_dog_breed/src/dataset/dog-breed-imagefolder/train\"\n",
    "test_dir  = \"/Users/ajinkya/Documents/Visual Studio Code/0_PROJECTS/kaggle_dog_breed/src/dataset/dog-breed-imagefolder/test\""
   ]
  },
  {
   "cell_type": "code",
   "execution_count": 22,
   "metadata": {},
   "outputs": [
    {
     "name": "stdout",
     "output_type": "stream",
     "text": [
      "Found 20579 files belonging to 2 classes.\n",
      "Using 18522 files for training.\n",
      "Using 2057 files for validation.\n"
     ]
    }
   ],
   "source": [
    "training_dataset_tf, validation_dataset_tf = tf.keras.utils.image_dataset_from_directory(train_dir, \n",
    "                                            image_size = (224, 224),  # Default value is (256, 256). **source of potential error**\n",
    "                                            validation_split = 0.1, subset = \"both\", seed = 10, # Need to set subset & seed both for validation_split\n",
    "                                            batch_size = 1, shuffle= True, # Default values used automatically. **SOURCE OF POTENTIAL ERROR**\n",
    "                                            color_mode = \"rgb\", # Channels = 3. Hidden from us\n",
    "                                            label_mode = \"categorical\" )\n",
    "\n",
    "training_dataset_torch = torchvision.datasets.ImageFolder(train_dir)"
   ]
  }
 ],
 "metadata": {
  "kernelspec": {
   "display_name": "base",
   "language": "python",
   "name": "python3"
  },
  "language_info": {
   "codemirror_mode": {
    "name": "ipython",
    "version": 3
   },
   "file_extension": ".py",
   "mimetype": "text/x-python",
   "name": "python",
   "nbconvert_exporter": "python",
   "pygments_lexer": "ipython3",
   "version": "3.11.5"
  }
 },
 "nbformat": 4,
 "nbformat_minor": 2
}
