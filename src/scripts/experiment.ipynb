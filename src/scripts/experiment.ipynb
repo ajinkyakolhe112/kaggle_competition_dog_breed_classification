{
 "cells": [
  {
   "cell_type": "code",
   "execution_count": 1,
   "metadata": {
    "slideshow": {
     "slide_type": "skip"
    }
   },
   "outputs": [
    {
     "name": "stdout",
     "output_type": "stream",
     "text": [
      "Found 10222 files belonging to 120 classes.\n",
      "Using 9200 files for training.\n",
      "Using 1022 files for validation.\n"
     ]
    },
    {
     "data": {
      "text/plain": [
       "\"\\n    !IMP: 4 Bugs in the code\\n    1. for directory, gave path. dog-breed-imagefolder. It lead to 2 classes train & test, instead of 120 classes as dog breeds\\n    2. label_mode=int. it doesn't convert class to vector. categorical loss function needs vector of class not int. categorical_cross_entropy vs sparse_categorical_cross_entropy\\n    3. validation_split needs subset & seed. Tensorflow requirements\\n    4. default batch_size is 32. shuffle= True. These default values can lead to confusion while debugging with single element batch.\\n    \\n\""
      ]
     },
     "execution_count": 1,
     "metadata": {},
     "output_type": "execute_result"
    }
   ],
   "source": [
    "\n",
    "import tensorflow as tf\n",
    "from tensorflow import keras\n",
    "\n",
    "train_dataset_path = \"../dataset/dog-breed-imagefolder/train\"\n",
    "training_dataset, validation_dataset = tf.keras.utils.image_dataset_from_directory(train_dataset_path, \n",
    "                                            image_size = (224, 224),  # Default value is (256, 256). **source of potential error**\n",
    "                                            validation_split = 0.1, subset = \"both\", seed = 10, # Need to set subset & seed both for validation_split\n",
    "                                            batch_size = 32, shuffle= True, # Default values used automatically. **SOURCE OF POTENTIAL ERROR**\n",
    "                                            color_mode = \"rgb\", # Channels = 3. Hidden from us\n",
    "                                            label_mode = \"categorical\" ) # MUST. OTHERWISE causes error at LOSS value calculation. Need to do one hot encoding there\n"
   ]
  },
  {
   "cell_type": "markdown",
   "metadata": {},
   "source": [
    "\n",
    "**IMP: 4 Bugs in the code**\n",
    "1. for directory, gave path. dog-breed-imagefolder. It lead to 2 classes train & test, instead of 120 classes as dog breeds\n",
    "2. label_mode=int. it doesn't convert class to vector. categorical loss function needs vector of class not int. categorical_cross_entropy vs sparse_categorical_cross_entropy. needed to write custom training loop because of this reason.\n",
    "3. validation_split needs subset & seed. Tensorflow requirements\n",
    "4. default batch_size is 32. shuffle= True. These default values can lead to confusion while debugging with single element batch.\n"
   ]
  },
  {
   "cell_type": "code",
   "execution_count": 2,
   "metadata": {},
   "outputs": [
    {
     "name": "stderr",
     "output_type": "stream",
     "text": [
      "WARNING:absl:At this time, the v2.11+ optimizer `tf.keras.optimizers.Adam` runs slowly on M1/M2 Macs, please use the legacy Keras optimizer instead, located at `tf.keras.optimizers.legacy.Adam`.\n"
     ]
    }
   ],
   "source": [
    "NUM_CLASSES = 120\n",
    "\n",
    "class simple_fcnn(keras.Model):\n",
    "    def __init__(self):\n",
    "        super().__init__()\n",
    "\n",
    "        self.internal_model = tf.keras.models.Sequential([\n",
    "            keras.layers.Input(shape = (224, 224, 3)),\n",
    "            keras.layers.Flatten(),\n",
    "            keras.layers.Dense(units = 240, activation=\"relu\", ),\n",
    "            keras.layers.Dense(units = NUM_CLASSES),\n",
    "        ])\n",
    "\n",
    "    def call(self, input_single_batch):\n",
    "        final_layer_output = self.internal_model(input_single_batch)\n",
    "\n",
    "        return final_layer_output\n",
    "\n",
    "model  = simple_fcnn()\n",
    "model.compile(\n",
    "    loss      = keras.losses.CategoricalCrossentropy(),\n",
    "    optimizer = keras.optimizers.Adam() \n",
    ")"
   ]
  },
  {
   "cell_type": "code",
   "execution_count": null,
   "metadata": {},
   "outputs": [],
   "source": [
    "model.fit(x = training_dataset, validation_data = validation_dataset)"
   ]
  }
 ],
 "metadata": {
  "kernelspec": {
   "display_name": "Python 3",
   "language": "python",
   "name": "python3"
  },
  "language_info": {
   "codemirror_mode": {
    "name": "ipython",
    "version": 3
   },
   "file_extension": ".py",
   "mimetype": "text/x-python",
   "name": "python",
   "nbconvert_exporter": "python",
   "pygments_lexer": "ipython3",
   "version": "3.11.5"
  }
 },
 "nbformat": 4,
 "nbformat_minor": 2
}
