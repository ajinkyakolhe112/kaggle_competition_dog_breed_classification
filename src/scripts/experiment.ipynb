{
 "cells": [
  {
   "cell_type": "code",
   "execution_count": 1,
   "metadata": {
    "slideshow": {
     "slide_type": "skip"
    }
   },
   "outputs": [
    {
     "name": "stdout",
     "output_type": "stream",
     "text": [
      "Found 20579 files belonging to 2 classes.\n",
      "Using 18522 files for training.\n",
      "Using 2057 files for validation.\n"
     ]
    }
   ],
   "source": [
    "\n",
    "import tensorflow as tf\n",
    "from tensorflow import keras\n",
    "\n",
    "dataset_path = \"/Users/ajinkya/Documents/Visual Studio Code/0_PROJECTS/kaggle_dog_breed/src/dataset/dog-breed-imagefolder\"\n",
    "training_dataset, validation_dataset = tf.keras.utils.image_dataset_from_directory(dataset_path, \n",
    "                                            image_size = (224, 224),  # Default value is (256, 256). **source of potential error**\n",
    "                                            validation_split = 0.1, subset = \"both\", seed = 10, # Need to set subset & seed both for validation_split\n",
    "                                            batch_size = 32, shuffle= True, # Default values used automatically. **SOURCE OF POTENTIAL ERROR**\n",
    "                                            color_mode = \"rgb\") # Channels = 3. Hidden from us"
   ]
  },
  {
   "cell_type": "code",
   "execution_count": 2,
   "metadata": {},
   "outputs": [
    {
     "name": "stderr",
     "output_type": "stream",
     "text": [
      "WARNING:absl:At this time, the v2.11+ optimizer `tf.keras.optimizers.Adam` runs slowly on M1/M2 Macs, please use the legacy Keras optimizer instead, located at `tf.keras.optimizers.legacy.Adam`.\n"
     ]
    }
   ],
   "source": [
    "NUM_CLASSES = 120\n",
    "\n",
    "class simple_fcnn(keras.Model):\n",
    "    def __init__(self):\n",
    "        super().__init__()\n",
    "\n",
    "        self.internal_model = tf.keras.models.Sequential([\n",
    "            keras.layers.Input(shape = (224, 224, 3)),\n",
    "            keras.layers.Flatten(),\n",
    "            keras.layers.Dense(units = 240, activation=\"relu\", ),\n",
    "            keras.layers.Dense(units = NUM_CLASSES),\n",
    "        ])\n",
    "\n",
    "    def call(self, input_single_batch):\n",
    "        final_layer_output = self.internal_model(input_single_batch)\n",
    "\n",
    "        return final_layer_output\n",
    "\n",
    "model  = simple_fcnn()\n",
    "model.compile(\n",
    "    loss      = keras.losses.CategoricalCrossentropy(),\n",
    "    optimizer = keras.optimizers.Adam() \n",
    ")"
   ]
  },
  {
   "cell_type": "code",
   "execution_count": null,
   "metadata": {},
   "outputs": [],
   "source": [
    "x, y = next(iter(training_dataset))"
   ]
  },
  {
   "cell_type": "code",
   "execution_count": null,
   "metadata": {},
   "outputs": [],
   "source": [
    "model.fit(training_dataset)"
   ]
  },
  {
   "cell_type": "code",
   "execution_count": 4,
   "metadata": {},
   "outputs": [
    {
     "name": "stderr",
     "output_type": "stream",
     "text": [
      "WARNING:absl:At this time, the v2.11+ optimizer `tf.keras.optimizers.Adam` runs slowly on M1/M2 Macs, please use the legacy Keras optimizer instead, located at `tf.keras.optimizers.legacy.Adam`.\n"
     ]
    }
   ],
   "source": [
    "class Trainer():\n",
    "    def __init__(self):\n",
    "        self.optimizer          = keras.optimizers.Adam()\n",
    "        self.loss               = keras.losses.CategoricalCrossentropy()\n",
    "\n",
    "        self.train_acc_metric   = keras.metrics.SparseCategoricalAccuracy()\n",
    "        self.val_acc_metric     = keras.metrics.SparseCategoricalAccuracy()\n",
    "\n",
    "    def fit(self, train_dataset, validation_dataset, untrained_model, epochs = 5):\n",
    "        for epoch in range(epochs):\n",
    "            for step, (x_actual_train, y_actual_train) in enumerate(train_dataset):\n",
    "                with tf.GradientTape() as gradient_calc:\n",
    "                    y_pred_logits   = model(x_actual_train, training=True)\n",
    "                    loss_value      = self.loss(y_actual_train, y_pred_logits)\n",
    "                    acc_value       = self.train_acc_metric(y_actual_train, y_pred_logits)\n",
    "                \n",
    "                grads = gradient_calc.gradient(loss_value, model.trainable_weights)\n",
    "                self.optimizer.apply_gradients(zip(grads, model.trainable_weights))\n",
    "\n",
    "            # Run a validation loop at the end of each epoch.\n",
    "            for x_batch_val, y_batch_val in validation_dataset:\n",
    "                val_logits = model(x_batch_val, training=False)\n",
    "                self.val_acc_metric.update_state(y_batch_val, val_logits)\n",
    "\n",
    "trainer = Trainer()\n",
    "trainer.fit(training_dataset, validation_dataset, model)"
   ]
  }
 ],
 "metadata": {
  "kernelspec": {
   "display_name": "Python 3",
   "language": "python",
   "name": "python3"
  },
  "language_info": {
   "codemirror_mode": {
    "name": "ipython",
    "version": 3
   },
   "file_extension": ".py",
   "mimetype": "text/x-python",
   "name": "python",
   "nbconvert_exporter": "python",
   "pygments_lexer": "ipython3",
   "version": "3.11.5"
  }
 },
 "nbformat": 4,
 "nbformat_minor": 2
}
