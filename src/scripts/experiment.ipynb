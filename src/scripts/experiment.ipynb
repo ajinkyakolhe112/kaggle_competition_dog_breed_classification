{
 "cells": [
  {
   "cell_type": "code",
   "execution_count": 38,
   "metadata": {
    "slideshow": {
     "slide_type": "skip"
    }
   },
   "outputs": [
    {
     "name": "stdout",
     "output_type": "stream",
     "text": [
      "Found 10222 files belonging to 120 classes.\n",
      "Using 9200 files for training.\n",
      "Using 1022 files for validation.\n"
     ]
    }
   ],
   "source": [
    "import tensorflow as tf\n",
    "from tensorflow import keras\n",
    "\n",
    "train_dataset_path = \"../dataset/dog-breed-imagefolder/train\"\n",
    "training_dataset, validation_dataset = tf.keras.utils.image_dataset_from_directory(train_dataset_path, \n",
    "                                            image_size = (224, 224),  # Default value is (256, 256). **source of potential error**\n",
    "                                            validation_split = 0.1, subset = \"both\", seed = 10, # Need to set subset & seed both for validation_split\n",
    "                                            batch_size = 32, shuffle= True, # Default values used automatically. **SOURCE OF POTENTIAL ERROR**\n",
    "                                            color_mode = \"rgb\", # Channels = 3. Hidden from us\n",
    "                                            label_mode = \"categorical\" ) # MUST. OTHERWISE causes error at LOSS value calculation. Need to do one hot encoding there\n"
   ]
  },
  {
   "cell_type": "markdown",
   "metadata": {},
   "source": [
    "\n",
    "**IMP: 4 Bugs in the code**\n",
    "1. `dir = dog-breed-imagefolder`. It lead to 2 classes 1st class -> train & 2nd class -> test, instead of 120 classes as dog breeds\n",
    "2. default value of `label_mode=int`. it doesn't convert class to vector. categorical loss function needs vector of class not int. `tf.keras.losses.categorical_cross_entropy` vs `tf.keras.losses.sparse_categorical_cross_entropy`. I needed to write custom training loop to debug this problem.\n",
    "3. `batch_size = 32, shuffle= True`. These default values can lead to confusion while debugging with single element batch.\n",
    "4. `validation_split` needs subset & seed. Tensorflow requirements\n"
   ]
  },
  {
   "cell_type": "markdown",
   "metadata": {},
   "source": [
    "## Neural Network - Training from Scratch"
   ]
  },
  {
   "cell_type": "code",
   "execution_count": null,
   "metadata": {},
   "outputs": [],
   "source": [
    "NUM_CLASSES = 120\n",
    "\"\"\"\n",
    "    NN: Architecture\n",
    "    Input Layer  = Shape (224, 224, 3)\n",
    "    Hidden Layer = 240 Neurons\n",
    "    Output Layer = 120 Neurons\n",
    "\"\"\"\n",
    "class simple_fcnn(keras.Model):\n",
    "    def __init__(self):\n",
    "        super().__init__()\n",
    "        self.internal_model = tf.keras.models.Sequential([\n",
    "            keras.layers.Input(shape = (224, 224, 3)),\n",
    "            keras.layers.Flatten(),\n",
    "\n",
    "            keras.layers.Dense(units = 240,             activation=\"relu\",      kernel_initializer='random_normal', bias_initializer='zeros'),\n",
    "            keras.layers.Dense(units = NUM_CLASSES,     activation=\"softmax\",   kernel_initializer='random_normal', bias_initializer='zeros'),\n",
    "        ])\n",
    "\n",
    "    def call(self, input_single_batch):\n",
    "        final_layer_output = self.internal_model(input_single_batch)\n",
    "\n",
    "        return final_layer_output\n",
    "\n",
    "model  = simple_fcnn()\n",
    "model.compile(\n",
    "    loss      = keras.losses.CategoricalCrossentropy(),     # \"categorical_cross_entropy\"\n",
    "    optimizer = keras.optimizers.Adam(),                    # \"adam\"\n",
    "    metrics   = [\"accuracy\"],                               # keras.metrics.Accuracy()\n",
    ")"
   ]
  },
  {
   "cell_type": "code",
   "execution_count": 42,
   "metadata": {},
   "outputs": [
    {
     "name": "stdout",
     "output_type": "stream",
     "text": [
      "Epoch 1/5\n"
     ]
    },
    {
     "name": "stdout",
     "output_type": "stream",
     "text": [
      "288/288 [==============================] - 106s 353ms/step - loss: 2.1600 - accuracy: 0.5522 - val_loss: 1.0804 - val_accuracy: 0.7387\n",
      "Epoch 2/5\n",
      "288/288 [==============================] - 108s 374ms/step - loss: 0.4891 - accuracy: 0.8673 - val_loss: 1.0253 - val_accuracy: 0.7740\n",
      "Epoch 3/5\n",
      "288/288 [==============================] - 110s 381ms/step - loss: 0.2807 - accuracy: 0.9227 - val_loss: 1.2708 - val_accuracy: 0.7681\n",
      "Epoch 4/5\n",
      "288/288 [==============================] - 108s 375ms/step - loss: 0.2131 - accuracy: 0.9414 - val_loss: 1.2539 - val_accuracy: 0.7818\n",
      "Epoch 5/5\n",
      "288/288 [==============================] - 106s 367ms/step - loss: 0.2647 - accuracy: 0.9334 - val_loss: 1.5037 - val_accuracy: 0.7691\n"
     ]
    },
    {
     "data": {
      "text/plain": [
       "<keras.src.callbacks.History at 0x28e555e50>"
      ]
     },
     "execution_count": 42,
     "metadata": {},
     "output_type": "execute_result"
    }
   ],
   "source": [
    "model.fit(x = training_dataset, validation_data = validation_dataset, epochs = 5)"
   ]
  },
  {
   "cell_type": "markdown",
   "metadata": {},
   "source": [
    "## Transfer Learning"
   ]
  },
  {
   "cell_type": "code",
   "execution_count": null,
   "metadata": {},
   "outputs": [],
   "source": [
    "NUM_CLASSES = 120\n",
    "\"\"\"\n",
    "    NN: Architecture\n",
    "    PRETRAINED MODEL\n",
    "    Input Layer  = Shape (224, 224, 3)\n",
    "    Hidden Layer = 240 Neurons\n",
    "    Output Layer = 120 Neurons\n",
    "\"\"\"\n",
    "class transfer_learning_fcnn(keras.Model):\n",
    "    def __init__(self):\n",
    "        super().__init__()\n",
    "        base_model           = tf.keras.applications.efficientnet_v2.EfficientNetV2B0(include_top=False)\n",
    "        base_model.trainable = False\n",
    "\n",
    "        self.internal_model = tf.keras.models.Sequential([\n",
    "            keras.layers.Input(shape = (224, 224, 3)),\n",
    "            base_model,\n",
    "            keras.layers.Flatten(),\n",
    "\n",
    "            keras.layers.Dense(units = 240,             activation=\"relu\",      kernel_initializer='random_normal', bias_initializer='zeros'),\n",
    "            keras.layers.Dense(units = NUM_CLASSES,     activation=\"softmax\",   kernel_initializer='random_normal', bias_initializer='zeros'),\n",
    "        ])\n",
    "\n",
    "    def call(self, input_single_batch):\n",
    "        final_layer_output = self.internal_model(input_single_batch)\n",
    "\n",
    "        return final_layer_output\n",
    "\n",
    "model  = transfer_learning_fcnn()\n",
    "model.compile(\n",
    "    loss      = keras.losses.CategoricalCrossentropy(),     # \"categorical_cross_entropy\"\n",
    "    optimizer = keras.optimizers.Adam(),                    # \"adam\"\n",
    "    metrics   = [\"accuracy\"],                               # keras.metrics.Accuracy()\n",
    ")"
   ]
  }
 ],
 "metadata": {
  "kernelspec": {
   "display_name": "Python 3",
   "language": "python",
   "name": "python3"
  },
  "language_info": {
   "codemirror_mode": {
    "name": "ipython",
    "version": 3
   },
   "file_extension": ".py",
   "mimetype": "text/x-python",
   "name": "python",
   "nbconvert_exporter": "python",
   "pygments_lexer": "ipython3",
   "version": "3.11.5"
  }
 },
 "nbformat": 4,
 "nbformat_minor": 2
}
